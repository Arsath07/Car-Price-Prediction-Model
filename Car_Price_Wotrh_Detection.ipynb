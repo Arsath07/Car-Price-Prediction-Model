{
  "nbformat": 4,
  "nbformat_minor": 0,
  "metadata": {
    "colab": {
      "provenance": [],
      "authorship_tag": "ABX9TyOdSTj1DsLtSw8xp0BMBV75"
    },
    "kernelspec": {
      "name": "python3",
      "display_name": "Python 3"
    },
    "language_info": {
      "name": "python"
    }
  },
  "cells": [
    {
      "cell_type": "code",
      "source": [
        "# importing libraries\n",
        "import numpy as np\n",
        "import pandas as pd\n",
        "import matplotlib.pyplot as plt\n",
        "\n",
        "# importing dataset\n",
        "data = pd.read_csv(\"/content/CAR DETAILS FROM CAR DEKHO.csv\")\n",
        "x1 = data[\"year\"]\n",
        "x2 = data[\"km_driven\"]\n",
        "y = data[\"selling_price\"]\n",
        "\n",
        "# taking mean\n",
        "mean_x1 = np.mean(x1)\n",
        "mean_x2 = np.mean(x2)\n",
        "mean_y = np.mean(y)\n",
        "\n",
        "# calculating coefficients\n",
        "b1 = np.sum((x1 - mean_x1) * (y - mean_y)) / np.sum((x1 - mean_x1) ** 2)\n",
        "b2 = np.sum((x2 - mean_x2) * (y - mean_y)) / np.sum((x2 - mean_x2) ** 2)\n",
        "b0 = mean_y - b1 * mean_x1 - b2 * mean_x2"
      ],
      "metadata": {
        "id": "y6SrPWTcfaZm"
      },
      "execution_count": 44,
      "outputs": []
    },
    {
      "cell_type": "code",
      "source": [
        "# priting title\n",
        "print(\"Welcome to Car Price Detector Model\")\n",
        "print(\"-\"*60)\n",
        "\n",
        "# loop\n",
        "while True:\n",
        "  # collecting inputs of year and km_driven\n",
        "  year = int(input(\"In which year did you bought your Car? \"))\n",
        "  km = int(input(\"How many KMs your car was driven? \"))\n",
        "\n",
        "  # calculating the price\n",
        "  cv = b0 + b1*year + b2*km\n",
        "\n",
        "  # displaying results\n",
        "  print(\"-\"*60)\n",
        "  print(\"Your Car is bought in\",year,\"and it was driven\",km,\"KM\")\n",
        "\n",
        "  # checking if the worth is there or not\n",
        "  if cv <= 0:\n",
        "    print(\"Sorry! your car don't have any worth now\")\n",
        "  else:\n",
        "    print(\"Estimated Selling Price:\",int(cv))\n",
        "\n",
        "  print(\"-\"*60)\n",
        "\n",
        "  # getting input for exit or continue\n",
        "  fi = input(\"(type 1 to continue or type anything to exit)\")\n",
        "  if fi == \"1\":\n",
        "    continue\n",
        "\n",
        "  else:\n",
        "    break"
      ],
      "metadata": {
        "id": "nbBQy8qIHTiP"
      },
      "execution_count": null,
      "outputs": []
    }
  ]
}